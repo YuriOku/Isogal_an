{
 "cells": [
  {
   "cell_type": "code",
   "execution_count": null,
   "metadata": {},
   "outputs": [],
   "source": [
    "import numpy as np\n",
    "import matplotlib.pyplot as plt\n",
    "import matplotlib.ticker as ticker\n",
    "import h5py\n",
    "import math\n",
    "import scipy.integrate as int\n",
    "import numba"
   ]
  },
  {
   "cell_type": "code",
   "execution_count": null,
   "metadata": {},
   "outputs": [],
   "source": [
    "time = 100 # number of snapshots in 0 -- 1 Gyr\n",
    "H = 4 # height from galactic plane in kpc\n",
    "alpha = 3.1536e7/3.085677581e16 # 1 km/sec in kpc/yr\n",
    "\n",
    "models = [\"Osaka2019_isogal\"]\n",
    "          #, \"geodome_model/geodome_original\"\\\n",
    "          #, \"geodome_model/ver_19.11.1\"]\n",
    "\n",
    "snapshot = [[0]*time for i in range(len(models))]\n",
    "subfind  = [[0]*time for i in range(len(models))]\n",
    "MassOutFlowRate = [[0]*time for i in range(len(models))]\n",
    "MassOutFlowRate_S19 = [[0]*time for i in range(len(models))]\n",
    "MassOutFlowRate_r02 = [[0]*time for i in range(len(models))]\n",
    "MassOutFlowRate_r05 = [[0]*time for i in range(len(models))]\n",
    "MassOutFlowRate_r10 = [[0]*time for i in range(len(models))]\n",
    "MassOutFlowRate_r20 = [[0]*time for i in range(len(models))]\n",
    "SFR = [[0]*time for i in range(len(models))]\n",
    "\n",
    "for i in range(len(models)):\n",
    "    for j in range(time):\n",
    "        snapshot[i][j] = h5py.File('/home/oku/data_2019/isogal/{0}/snapshot_{1:03}/snapshot_{1:03}.hdf5'.format(models[i], j), 'r')\n",
    "        subfind[i][j]  = h5py.File('/home/oku/data_2019/isogal/{0}/snapshot_{1:03}/groups_{1:03}/sub_{1:03}.hdf5'.format(models[i], j), 'r')\n",
    ""
   ]
  },
  {
   "cell_type": "markdown",
   "metadata": {},
   "source": [
    "## Kernel function"
   ],
   "execution_count": null,
   "outputs": []
  },
  {
   "cell_type": "code",
   "execution_count": null,
   "metadata": {},
   "outputs": [],
   "source": [
    "def W3(r, h):\n",
    "    r = abs(r)/h\n",
    "    C = 8/h**3/math.pi\n",
    "    if r > 1:\n",
    "        return 0\n",
    "    elif r > 1/2:\n",
    "        return C*2*(1-r)**3\n",
    "    else:\n",
    "        return C*(1 - 6*r**2 + 6*r**3)\n",
    "\n",
    "def func(x,h,z):\n",
    "    return W3(math.sqrt(z**2 + x**2),h)*2*math.pi*x\n",
    "\n",
    "def integral(hsml, z):\n",
    "    return int.quad(func, 0, math.sqrt(hsml**2 - z**2), args=(hsml, z))[0]\n",
    "\n",
    "np_W3 = np.frompyfunc(W3,2,1)\n",
    "np_int = np.frompyfunc(integral,2,1)\n"
   ]
  },
  {
   "cell_type": "markdown",
   "metadata": {},
   "source": [
    "## Gas outflow rate"
   ],
   "execution_count": null,
   "outputs": []
  },
  {
   "cell_type": "code",
   "execution_count": null,
   "metadata": {},
   "outputs": [],
   "source": [
    "@numba.jit\n",
    "def main(Z, hsml, Vz, M, H):\n",
    "    dz = np.abs(np.abs(Z) - H)\n",
    "    index_p = np.where((dz < hsml) & (Z > 0) & (Vz > 0))\n",
    "    index_m = np.where((dz < hsml) & (Z < 0) & (Vz < 0))\n",
    "\n",
    "    npdotM_m = np_int(hsml[index_m[0]], dz[index_m[0]])*M[index_m[0]]*np.abs(Vz[index_m[0]])\n",
    "    npdotM_p = np_int(hsml[index_p[0]], dz[index_p[0]])*M[index_p[0]]*np.abs(Vz[index_p[0]])\n",
    "    dotM = np.sum(npdotM_m) + np.sum(npdotM_p)\n",
    "\n",
    "    return dotM\n"
   ]
  },
  {
   "cell_type": "code",
   "execution_count": null,
   "metadata": {},
   "outputs": [],
   "source": [
    "@numba.jit\n",
    "def main_r(X, Y, Z, hsml, Vz, M, H, R):\n",
    "    dz = np.abs(np.abs(Z) - H)\n",
    "    r  = np.sqrt(X*X + Y*Y)\n",
    "    index_p = np.where((dz < hsml) & (Z > 0) & (Vz > 0) & (r < R))\n",
    "    index_m = np.where((dz < hsml) & (Z < 0) & (Vz < 0) & (r < R))\n",
    "\n",
    "    npdotM_m = np_int(hsml[index_m[0]], dz[index_m[0]])*M[index_m[0]]*np.abs(Vz[index_m[0]])\n",
    "    npdotM_p = np_int(hsml[index_p[0]], dz[index_p[0]])*M[index_p[0]]*np.abs(Vz[index_p[0]])\n",
    "    dotM = np.sum(npdotM_m) + np.sum(npdotM_p)\n",
    "\n",
    "    return dotM\n"
   ]
  },
  {
   "cell_type": "code",
   "execution_count": null,
   "metadata": {},
   "outputs": [],
   "source": [
    "@numba.jit\n",
    "def main_S19(Z, hsml, Vz, M, density, H):\n",
    "    rho_tot = sum(density*density)\n",
    "    zcenter = sum(Z*density*density)\n",
    "    zcenter = zcenter/rho_tot\n",
    "\n",
    "    Z = Z-zcenter\n",
    "    dz = np.abs(np.abs(Z) - H)\n",
    "    index_p = np.where((dz < hsml) & (Z > 0) & (Vz > 0))\n",
    "    index_m = np.where((dz < hsml) & (Z <= 0) & (Vz < 0))\n",
    "\n",
    "    wk = np_W3(dz, hsml)\n",
    "    area = math.pi*(hsml*hsml - dz*dz)\n",
    "    rho = M*wk\n",
    "    npdotM = rho*np.abs(Vz)*area\n",
    "    dotM = np.sum(npdotM[index_m[0]]) + np.sum(npdotM[index_p[0]])\n",
    "    \n",
    "    return dotM"
   ]
  },
  {
   "cell_type": "code",
   "execution_count": null,
   "metadata": {},
   "outputs": [],
   "source": [
    "for k in range(len(models)):\n",
    "    for t in range(time):\n",
    "        GalPos  = subfind[k][t]['Group/GroupPos'][0]\n",
    "        GalVel = subfind[k][t]['Subhalo/SubhaloVel'][0]\n",
    "        X = np.array(snapshot[k][t]['PartType0/Coordinates']).T[0]\n",
    "        Y = np.array(snapshot[k][t]['PartType0/Coordinates']).T[1]\n",
    "        Z = np.array(snapshot[k][t]['PartType0/Coordinates']).T[2]\n",
    "        hsml = np.array(snapshot[k][t]['PartType0/SmoothingLength'])\n",
    "        Vz = np.array(snapshot[k][t]['PartType0/Velocities']).T[2]\n",
    "        M = np.array(snapshot[k][t]['PartType0/Masses'])\n",
    "        density = np.array(snapshot[k][t]['PartType0/Density'])\n",
    "        dotM = 0.0\n",
    "        dotM_S19 = 0.0\n",
    "        \n",
    "        dotM = main(Z-GalPos[2], hsml, Vz-GalVel[2], M, H)\n",
    "        dotM_S19 = main_S19(Z, hsml, Vz, M, density, H)\n",
    "        dotM_r02 = main_r(X-GalPos[0], Y-GalPos[1], Z-GalPos[2], hsml, Vz-GalVel[2], M, H, 2)\n",
    "        dotM_r05 = main_r(X-GalPos[0], Y-GalPos[1], Z-GalPos[2], hsml, Vz-GalVel[2], M, H, 5)\n",
    "        dotM_r10 = main_r(X-GalPos[0], Y-GalPos[1], Z-GalPos[2], hsml, Vz-GalVel[2], M, H, 10)\n",
    "        dotM_r20 = main_r(X-GalPos[0], Y-GalPos[1], Z-GalPos[2], hsml, Vz-GalVel[2], M, H, 20)\n",
    "        \n",
    "\n",
    "        MassOutFlowRate[k][t] = dotM*1e10*alpha\n",
    "        MassOutFlowRate_S19[k][t] = dotM_S19*1e10*alpha\n",
    "        MassOutFlowRate_r02[k][t] = dotM_r02*1e10*alpha\n",
    "        MassOutFlowRate_r05[k][t] = dotM_r05*1e10*alpha\n",
    "        MassOutFlowRate_r10[k][t] = dotM_r10*1e10*alpha\n",
    "        MassOutFlowRate_r20[k][t] = dotM_r20*1e10*alpha\n",
    "        SFR[k][t] = np.sum(np.array(snapshot[k][t]['PartType0/StarFormationRate']))\n",
    "        # print(\"t {}, dotM {}, dotM_approx {}\".format(t, dotM, dotM_approx))"
   ]
  },
  {
   "cell_type": "code",
   "execution_count": null,
   "metadata": {},
   "outputs": [],
   "source": [
    "timestep = np.linspace(0,0.99,100)\n",
    "plt.plot(timestep,MassOutFlowRate_r02[0], label=\"R = 2kpc\")\n",
    "plt.plot(timestep,MassOutFlowRate_r05[0], label=\"R = 5kpc\")\n",
    "plt.plot(timestep,MassOutFlowRate_r10[0], label=\"R = 10kpc\")\n",
    "plt.plot(timestep,MassOutFlowRate_r20[0], label=\"R = 20kpc\")\n",
    "plt.plot(timestep,MassOutFlowRate[0], label=r\"R = $\\infty$\")\n",
    "plt.yscale('log')\n",
    "plt.ylabel('Mass outflow rate [Msun/yr]')\n",
    "plt.xlabel('Time [Gyr]')\n",
    "plt.legend(bbox_to_anchor=(1, 0), loc='lower right')\n",
    "# plt.savefig(\"OutflowRate4kpc_R.pdf\")"
   ]
  },
  {
   "cell_type": "code",
   "execution_count": null,
   "metadata": {},
   "outputs": [],
   "source": [
    "timestep = np.linspace(0,0.99,100)\n",
    "plt.plot(timestep,np.array(MassOutFlowRate_S19[0])*np.sqrt(timestep), label=\"Shimizu et al. (2019)\")\n",
    "plt.plot(timestep,MassOutFlowRate_S19[0], linestyle=\"dashed\", label=r\"$\\sqrt{t/1\\,{\\rm Gyr}}$ fixed\")\n",
    "plt.plot(timestep,MassOutFlowRate[0], linestyle=\"dotted\", label=r\"$\\sqrt{t/1\\,{\\rm Gyr}}$ fixed & Eq. (2)\")\n",
    "plt.yscale('log')\n",
    "plt.ylabel('Mass outflow rate [Msun/yr]')\n",
    "plt.xlabel('Time [Gyr]')\n",
    "plt.legend(bbox_to_anchor=(1, 0), loc='lower right')\n",
    "#plt.savefig(\"OutflowRate4kpc.pdf\")"
   ]
  },
  {
   "cell_type": "code",
   "execution_count": null,
   "metadata": {},
   "outputs": [],
   "source": [
    "data = [0]*len(models)\n",
    "for i in range(len(models)):\n",
    "    data[i] = np.loadtxt('/home/oku/data_2019/isogal/{}/data/{}'.format(models[i], H))\n",
    "\n",
    "for i in range(len(models)):\n",
    "    plt.plot(MassOutFlowRate[i],linestyle=\"dashed\",label=\"{} my code (my method)\".format(models[i]))\n",
    "    plt.plot(MassOutFlowRate_S19[i],label=\"{} my code (Shimizu19 method)\".format(models[i]))\n",
    "    plt.plot(data[i].T[2],linestyle=\"dotted\", label=\"{} Shimizu19 code\".format(models[i]))\n",
    "plt.yscale('log')\n",
    "plt.ylabel('Mass outflow rate [Msun/yr]')\n",
    "plt.xlabel('time [10Myr]')\n",
    "plt.legend(bbox_to_anchor=(1, 0), loc='lower left')\n",
    "# plt.savefig('OutFlowRate4kpc.pdf',bbox_inches=\"tight\")"
   ]
  },
  {
   "cell_type": "code",
   "execution_count": null,
   "metadata": {},
   "outputs": [],
   "source": [
    "for i in range(len(models)):\n",
    "    plt.plot(np.array(MassOutFlowRate[i])/np.array(SFR[i]),linestyle=\"dashed\",label=\"{} my code (my method)\".format(models[i]))\n",
    "    plt.plot(np.array(MassOutFlowRate_S19[i])/np.array(SFR[i]),label=\"{} my code (Shimizu19 method)\".format(models[i]))\n",
    "    plt.plot(data[i].T[1],linestyle=\"dotted\", label=\"{} Shimizu19 code\".format(models[i]))\n",
    "plt.yscale('log')\n",
    "plt.ylabel('Mass loading factor')\n",
    "plt.xlabel('time [10Myr]')\n",
    "plt.legend(bbox_to_anchor=(1, 0), loc='lower left')\n",
    "# plt.savefig(\"MassLoadingFactor4kpc.pdf\",bbox_inches=\"tight\")"
   ]
  },
  {
   "cell_type": "code",
   "execution_count": null,
   "metadata": {},
   "outputs": [],
   "source": [
    "plt.plot(SFR[0], label=\"my code\")\n",
    "plt.plot(data[0].T[3],label=\"Shimizu19 code\")\n",
    "plt.ylabel('SFR')\n",
    "plt.xlabel('time')\n",
    "plt.grid()\n",
    "plt.legend()\n",
    "# plt.savefig(\"SFR.pdf\")\n"
   ]
  },
  {
   "cell_type": "code",
   "execution_count": null,
   "metadata": {},
   "outputs": [],
   "source": []
  }
 ],
 "metadata": {
  "kernelspec": {
   "display_name": "Python 3.7.3 64-bit ('base': conda)",
   "language": "python",
   "name": "python37364bitbaseconda59fdcd74f7b646b8b675b4f21f43d693"
  },
  "language_info": {
   "codemirror_mode": {
    "name": "ipython",
    "version": 3
   },
   "file_extension": ".py",
   "mimetype": "text/x-python",
   "name": "python",
   "nbconvert_exporter": "python",
   "pygments_lexer": "ipython3",
   "version": "3.7.3-final"
  }
 },
 "nbformat": 4,
 "nbformat_minor": 2
}